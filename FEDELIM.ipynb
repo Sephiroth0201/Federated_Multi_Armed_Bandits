{
 "cells": [
  {
   "cell_type": "code",
   "execution_count": 1,
   "metadata": {},
   "outputs": [],
   "source": [
    "import numpy as np\n",
    "import random\n",
    "import matplotlib.pyplot as plt\n",
    "import scipy\n",
    "import seaborn as sns"
   ]
  },
  {
   "cell_type": "code",
   "execution_count": 2,
   "metadata": {},
   "outputs": [],
   "source": [
    "#PROBLEM INSTANCE\n",
    "instance = np.array([\n",
    "    [0.9, 0.1, 0.1],\n",
    "    [0.1, 0.9, 0.1],\n",
    "    [0.1, 0.1, 0.9],\n",
    "    [0.5, 0.5, 0.5]\n",
    "])\n",
    "delt=0.1\n",
    "C=10"
   ]
  },
  {
   "cell_type": "code",
   "execution_count": 3,
   "metadata": {},
   "outputs": [
    {
     "data": {
      "text/plain": [
       "(4, 3)"
      ]
     },
     "execution_count": 3,
     "metadata": {},
     "output_type": "execute_result"
    }
   ],
   "source": [
    "instance.shape"
   ]
  },
  {
   "cell_type": "code",
   "execution_count": 4,
   "metadata": {},
   "outputs": [],
   "source": [
    "def getreward(instance, arm, client):\n",
    "    mean=instance[arm][client]\n",
    "    reward=np.random.normal(loc=mean, scale=1, size=1)[0]\n",
    "    return reward\n",
    "\n",
    "\n",
    "def all_sets_empty(set_list):\n",
    "    return all(not s for s in set_list)"
   ]
  },
  {
   "cell_type": "code",
   "execution_count": 90,
   "metadata": {},
   "outputs": [],
   "source": [
    "def FEDELIM(instance,delt,C):\n",
    "    K=instance.shape[0]\n",
    "    M=instance.shape[1]\n",
    "    answer=np.zeros((M+1))\n",
    "    time=0\n",
    "    emp_means_local=np.zeros((K,M))\n",
    "    emp_means_global=np.zeros(K)\n",
    "    local_contention=[]\n",
    "\n",
    "    for i in range(M):\n",
    "        local_contention.append(set(range(K)))\n",
    "    global_contention=set(range(K))\n",
    "\n",
    "    pulls=local_contention\n",
    "    cost=0\n",
    "\n",
    "    while len(global_contention) > 0 or any(len(s) > 0 for s in local_contention):\n",
    "        time+=1\n",
    "        conf_local=np.sqrt((2*np.log((8*K*M*time*time)/delt))/time)\n",
    "        conf_global=np.sqrt((2*np.log((8*K*time*time)/delt))/(time*M))\n",
    "\n",
    "        for m in range(M):\n",
    "            pulls[m]=global_contention | local_contention[m]\n",
    "\n",
    "            if len(pulls[m])>1:\n",
    "                cost+=len(pulls[m])\n",
    "\n",
    "                for k in pulls[m]:\n",
    "                    rew=getreward(instance,k,m)\n",
    "                    emp_means_local[k][m]=(emp_means_local[k][m]*(time-1)+rew)/time\n",
    "\n",
    "            if len(local_contention[m])>1:\n",
    "                local_best=max(emp_means_local[arm][m] for arm in local_contention[m])\n",
    "\n",
    "                for k in set(local_contention[m]):\n",
    "\n",
    "                    if local_best-emp_means_local[k][m]>=2*conf_local:\n",
    "                        local_contention[m].remove(k)\n",
    "\n",
    "            if len(local_contention[m])==1:\n",
    "                answer[m]=local_contention[m].pop()\n",
    "                \n",
    "        if len(global_contention)>1 and (time & (time -1)) == 0:\n",
    "            cost+=len(global_contention)*M*C\n",
    "\n",
    "            for k in set(global_contention):\n",
    "                emp_means_global[k]=np.mean(emp_means_local[k][:M])\n",
    "            global_best=max(emp_means_global[arm] for arm in global_contention)\n",
    "\n",
    "            for k in set(global_contention):\n",
    "\n",
    "                if global_best-emp_means_global[k]>=2*conf_global:\n",
    "                    global_contention.remove(k)\n",
    "\n",
    "        if len(global_contention)==1:\n",
    "            answer[M]=global_contention.pop()\n",
    "        \n",
    "    return (cost,answer,time)"
   ]
  },
  {
   "cell_type": "code",
   "execution_count": 92,
   "metadata": {},
   "outputs": [
    {
     "name": "stdout",
     "output_type": "stream",
     "text": [
      "total cost: 99984\n",
      "[0. 1. 2. 3.]\n"
     ]
    }
   ],
   "source": [
    "np.random.seed(None)\n",
    "cost,answer,time=FEDELIM(instance,delt,C)\n",
    "print(\"total cost:\", cost)\n",
    "print(answer)"
   ]
  },
  {
   "cell_type": "code",
   "execution_count": 93,
   "metadata": {},
   "outputs": [],
   "source": [
    "def FEDELIM0(instance,delt,C):\n",
    "    K=instance.shape[0]\n",
    "    M=instance.shape[1]\n",
    "    answer=np.zeros((M+1))\n",
    "    time=0\n",
    "    emp_means_local=np.zeros((K,M))\n",
    "    emp_means_global=np.zeros(K)\n",
    "    local_contention=[]\n",
    "\n",
    "    for i in range(M):\n",
    "        local_contention.append(set(range(K)))\n",
    "    global_contention=set(range(K))\n",
    "\n",
    "    pulls=local_contention\n",
    "    cost=0\n",
    "\n",
    "    while len(global_contention) > 0 or any(len(s) > 0 for s in local_contention):\n",
    "        time+=1\n",
    "        conf_local=np.sqrt((2*np.log((8*K*M*time*time)/delt))/time)\n",
    "        conf_global=np.sqrt((2*np.log((8*K*time*time)/delt))/(time*M))\n",
    "\n",
    "        for m in range(M):\n",
    "            pulls[m]=global_contention | local_contention[m]\n",
    "\n",
    "            if len(pulls[m])>1:\n",
    "                cost+=len(pulls[m])\n",
    "\n",
    "                for k in pulls[m]:\n",
    "                    rew=getreward(instance,k,m)\n",
    "                    emp_means_local[k][m]=(emp_means_local[k][m]*(time-1)+rew)/time\n",
    "\n",
    "            if len(local_contention[m])>1:\n",
    "                local_best=max(emp_means_local[arm][m] for arm in local_contention[m])\n",
    "\n",
    "                for k in set(local_contention[m]):\n",
    "\n",
    "                    if local_best-emp_means_local[k][m]>=2*conf_local:\n",
    "                        local_contention[m].remove(k)\n",
    "\n",
    "            if len(local_contention[m])==1:\n",
    "                answer[m]=local_contention[m].pop()\n",
    "                \n",
    "        if len(global_contention)>1:\n",
    "            cost+=len(global_contention)*M*C\n",
    "\n",
    "            for k in set(global_contention):\n",
    "                emp_means_global[k]=np.mean(emp_means_local[k][:M])\n",
    "            global_best=max(emp_means_global[arm] for arm in global_contention)\n",
    "\n",
    "            for k in set(global_contention):\n",
    "\n",
    "                if global_best-emp_means_global[k]>=2*conf_global:\n",
    "                    global_contention.remove(k)\n",
    "\n",
    "        if len(global_contention)==1:\n",
    "            answer[M]=global_contention.pop()\n",
    "        \n",
    "    return (cost,answer,time)"
   ]
  },
  {
   "cell_type": "code",
   "execution_count": 120,
   "metadata": {},
   "outputs": [
    {
     "name": "stdout",
     "output_type": "stream",
     "text": [
      "total cost: 492756\n",
      "[0. 3. 3. 3.]\n"
     ]
    }
   ],
   "source": [
    "np.random.seed(None)\n",
    "cost,answer,time=FEDELIM0(instance,delt,C)\n",
    "print(\"total cost:\", cost)\n",
    "print(answer)"
   ]
  },
  {
   "cell_type": "code",
   "execution_count": null,
   "metadata": {},
   "outputs": [],
   "source": []
  },
  {
   "cell_type": "code",
   "execution_count": null,
   "metadata": {},
   "outputs": [],
   "source": []
  }
 ],
 "metadata": {
  "kernelspec": {
   "display_name": "base",
   "language": "python",
   "name": "python3"
  },
  "language_info": {
   "codemirror_mode": {
    "name": "ipython",
    "version": 3
   },
   "file_extension": ".py",
   "mimetype": "text/x-python",
   "name": "python",
   "nbconvert_exporter": "python",
   "pygments_lexer": "ipython3",
   "version": "3.11.5"
  }
 },
 "nbformat": 4,
 "nbformat_minor": 2
}
